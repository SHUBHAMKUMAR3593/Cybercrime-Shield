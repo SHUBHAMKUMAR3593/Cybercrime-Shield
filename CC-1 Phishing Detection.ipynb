{
 "cells": [
  {
   "cell_type": "markdown",
   "metadata": {},
   "source": [
    "# Project Name- CyberSecurity Detection\n",
    "## Sub-Topic- Phishing Detection\n",
    "### By- Aarush Kumar\n",
    "#### Dated: December 05,2021"
   ]
  },
  {
   "cell_type": "code",
   "execution_count": 6,
   "metadata": {},
   "outputs": [],
   "source": [
    "import numpy as np\n",
    "from sklearn.ensemble import RandomForestClassifier as rfc\n",
    "from sklearn.svm import SVC\n",
    "from sklearn.model_selection import train_test_split\n",
    "from sklearn.linear_model import LogisticRegression as lr\n",
    "from flask import jsonify"
   ]
  },
  {
   "cell_type": "code",
   "execution_count": 7,
   "metadata": {},
   "outputs": [],
   "source": [
    "def getResult(url):\n",
    "    #Importing dataset\n",
    "    data = np.loadtxt(\"/home/aarush100616/Downloads/Projects/Eagle's eye on Cybercrime/Data/dataset.csv\", delimiter = \",\")\n",
    "    #Seperating features and labels\n",
    "    X = data[: , :-1]\n",
    "    y = data[: , -1]\n",
    "    #Seperating training features, testing features, training labels & testing labels\n",
    "    X_train, X_test, y_train, y_test = train_test_split(X, y, test_size = 0.2)\n",
    "    clf = rfc()\n",
    "    clf.fit(X_train, y_train)\n",
    "    score = clf.score(X_test, y_test)\n",
    "    print(score*100)\n",
    "    X_new = []\n",
    "    X_input = url\n",
    "    X_new=FeatureExtraction.generate_data_set(X_input)\n",
    "    X_new = np.array(X_new).reshape(1,-1)\n",
    "    try:\n",
    "        prediction = clf.predict(X_new)\n",
    "        if prediction == -1:\n",
    "            return \"Phishing Url\"\n",
    "        else:\n",
    "            return \"Legitimate Url\"\n",
    "    except:\n",
    "        return \"Phishing Url\""
   ]
  }
 ],
 "metadata": {
  "kernelspec": {
   "display_name": "Python 3",
   "language": "python",
   "name": "python3"
  },
  "language_info": {
   "codemirror_mode": {
    "name": "ipython",
    "version": 3
   },
   "file_extension": ".py",
   "mimetype": "text/x-python",
   "name": "python",
   "nbconvert_exporter": "python",
   "pygments_lexer": "ipython3",
   "version": "3.7.4"
  }
 },
 "nbformat": 4,
 "nbformat_minor": 4
}
